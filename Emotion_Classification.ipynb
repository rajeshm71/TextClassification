{
 "cells": [
  {
   "cell_type": "code",
   "execution_count": 1,
   "id": "5914b9d8",
   "metadata": {},
   "outputs": [
    {
     "name": "stderr",
     "output_type": "stream",
     "text": [
      "[nltk_data] Downloading package stopwords to\n",
      "[nltk_data]     C:\\Users\\rajes\\AppData\\Roaming\\nltk_data...\n",
      "[nltk_data]   Package stopwords is already up-to-date!\n"
     ]
    },
    {
     "data": {
      "text/plain": [
       "True"
      ]
     },
     "execution_count": 1,
     "metadata": {},
     "output_type": "execute_result"
    }
   ],
   "source": [
    "import pickle\n",
    "import re\n",
    "import string\n",
    "import time\n",
    "from collections import Counter\n",
    "\n",
    "import matplotlib.pyplot as plt\n",
    "import numpy as np\n",
    "import pandas as pd\n",
    "import seaborn as sns\n",
    "import tensorflow as tf\n",
    "from sklearn.svm import OneClassSVM\n",
    "from nltk import SnowballStemmer\n",
    "from nltk.corpus import stopwords\n",
    "from sklearn.ensemble import AdaBoostClassifier\n",
    "from sklearn.feature_extraction.text import CountVectorizer\n",
    "from sklearn.metrics import roc_auc_score, roc_curve, confusion_matrix, accuracy_score, classification_report\n",
    "from sklearn.model_selection import cross_val_score\n",
    "from sklearn.model_selection import train_test_split\n",
    "from sklearn.multiclass import OneVsRestClassifier\n",
    "from sklearn.naive_bayes import ComplementNB\n",
    "from sklearn.preprocessing import LabelEncoder\n",
    "from sklearn import svm\n",
    "from sklearn.utils import shuffle\n",
    "from tensorflow.keras import Sequential\n",
    "from tensorflow.keras import layers, callbacks\n",
    "from tensorflow.keras.preprocessing.sequence import pad_sequences\n",
    "from tensorflow.keras.preprocessing.text import Tokenizer\n",
    "import nltk\n",
    "nltk.download('stopwords')"
   ]
  },
  {
   "cell_type": "code",
   "execution_count": 2,
   "id": "fae52aa7",
   "metadata": {},
   "outputs": [
    {
     "data": {
      "text/html": [
       "<div>\n",
       "<style scoped>\n",
       "    .dataframe tbody tr th:only-of-type {\n",
       "        vertical-align: middle;\n",
       "    }\n",
       "\n",
       "    .dataframe tbody tr th {\n",
       "        vertical-align: top;\n",
       "    }\n",
       "\n",
       "    .dataframe thead th {\n",
       "        text-align: right;\n",
       "    }\n",
       "</style>\n",
       "<table border=\"1\" class=\"dataframe\">\n",
       "  <thead>\n",
       "    <tr style=\"text-align: right;\">\n",
       "      <th></th>\n",
       "      <th>Text</th>\n",
       "      <th>Emotion</th>\n",
       "    </tr>\n",
       "  </thead>\n",
       "  <tbody>\n",
       "    <tr>\n",
       "      <th>21454</th>\n",
       "      <td>Melissa stared at her friend in dism</td>\n",
       "      <td>fear</td>\n",
       "    </tr>\n",
       "    <tr>\n",
       "      <th>21455</th>\n",
       "      <td>Successive state elections have seen the gover...</td>\n",
       "      <td>fear</td>\n",
       "    </tr>\n",
       "    <tr>\n",
       "      <th>21456</th>\n",
       "      <td>Vincent was irritated but not dismay</td>\n",
       "      <td>fear</td>\n",
       "    </tr>\n",
       "    <tr>\n",
       "      <th>21457</th>\n",
       "      <td>Kendall-Hume turned back to face the dismayed ...</td>\n",
       "      <td>fear</td>\n",
       "    </tr>\n",
       "    <tr>\n",
       "      <th>21458</th>\n",
       "      <td>I am dismayed , but not surpris</td>\n",
       "      <td>fear</td>\n",
       "    </tr>\n",
       "  </tbody>\n",
       "</table>\n",
       "</div>"
      ],
      "text/plain": [
       "                                                    Text Emotion\n",
       "21454               Melissa stared at her friend in dism    fear\n",
       "21455  Successive state elections have seen the gover...    fear\n",
       "21456               Vincent was irritated but not dismay    fear\n",
       "21457  Kendall-Hume turned back to face the dismayed ...    fear\n",
       "21458                    I am dismayed , but not surpris    fear"
      ]
     },
     "execution_count": 2,
     "metadata": {},
     "output_type": "execute_result"
    }
   ],
   "source": [
    "# Load Dataset\n",
    "dataset = pd.read_csv('Datasets/Text Classification/Emotion_final.csv')\n",
    "dataset.tail()"
   ]
  },
  {
   "cell_type": "code",
   "execution_count": 3,
   "id": "740f7c74",
   "metadata": {},
   "outputs": [
    {
     "data": {
      "text/html": [
       "<div>\n",
       "<style scoped>\n",
       "    .dataframe tbody tr th:only-of-type {\n",
       "        vertical-align: middle;\n",
       "    }\n",
       "\n",
       "    .dataframe tbody tr th {\n",
       "        vertical-align: top;\n",
       "    }\n",
       "\n",
       "    .dataframe thead th {\n",
       "        text-align: right;\n",
       "    }\n",
       "</style>\n",
       "<table border=\"1\" class=\"dataframe\">\n",
       "  <thead>\n",
       "    <tr style=\"text-align: right;\">\n",
       "      <th></th>\n",
       "      <th>Text</th>\n",
       "      <th>Emotion</th>\n",
       "    </tr>\n",
       "  </thead>\n",
       "  <tbody>\n",
       "    <tr>\n",
       "      <th>21454</th>\n",
       "      <td>i feel like im not welcomed here i just dont l...</td>\n",
       "      <td>happy</td>\n",
       "    </tr>\n",
       "    <tr>\n",
       "      <th>21455</th>\n",
       "      <td>a girl entered in the division where i work an...</td>\n",
       "      <td>anger</td>\n",
       "    </tr>\n",
       "    <tr>\n",
       "      <th>21456</th>\n",
       "      <td>i cant help but feel excited for the part wher...</td>\n",
       "      <td>happy</td>\n",
       "    </tr>\n",
       "    <tr>\n",
       "      <th>21457</th>\n",
       "      <td>i feel tat all of us in this world are clever ...</td>\n",
       "      <td>happy</td>\n",
       "    </tr>\n",
       "    <tr>\n",
       "      <th>21458</th>\n",
       "      <td>i feel quite rebellious actually</td>\n",
       "      <td>anger</td>\n",
       "    </tr>\n",
       "  </tbody>\n",
       "</table>\n",
       "</div>"
      ],
      "text/plain": [
       "                                                    Text Emotion\n",
       "21454  i feel like im not welcomed here i just dont l...   happy\n",
       "21455  a girl entered in the division where i work an...   anger\n",
       "21456  i cant help but feel excited for the part wher...   happy\n",
       "21457  i feel tat all of us in this world are clever ...   happy\n",
       "21458                   i feel quite rebellious actually   anger"
      ]
     },
     "execution_count": 3,
     "metadata": {},
     "output_type": "execute_result"
    }
   ],
   "source": [
    "dataset = shuffle(dataset)\n",
    "dataset.reset_index(inplace=True, drop=True)\n",
    "dataset.tail()"
   ]
  },
  {
   "cell_type": "code",
   "execution_count": 4,
   "id": "8f8d2473",
   "metadata": {},
   "outputs": [],
   "source": [
    "# sns.countplot(dataset.Emotion)\n",
    "# plt.show()"
   ]
  },
  {
   "cell_type": "code",
   "execution_count": 5,
   "id": "cd6f1a80",
   "metadata": {},
   "outputs": [
    {
     "data": {
      "text/html": [
       "<div>\n",
       "<style scoped>\n",
       "    .dataframe tbody tr th:only-of-type {\n",
       "        vertical-align: middle;\n",
       "    }\n",
       "\n",
       "    .dataframe tbody tr th {\n",
       "        vertical-align: top;\n",
       "    }\n",
       "\n",
       "    .dataframe thead th {\n",
       "        text-align: right;\n",
       "    }\n",
       "</style>\n",
       "<table border=\"1\" class=\"dataframe\">\n",
       "  <thead>\n",
       "    <tr style=\"text-align: right;\">\n",
       "      <th></th>\n",
       "      <th>Text</th>\n",
       "      <th>Emotion</th>\n",
       "      <th>Label</th>\n",
       "    </tr>\n",
       "  </thead>\n",
       "  <tbody>\n",
       "    <tr>\n",
       "      <th>0</th>\n",
       "      <td>i feel beaten a href http ediebloom</td>\n",
       "      <td>sadness</td>\n",
       "      <td>4</td>\n",
       "    </tr>\n",
       "    <tr>\n",
       "      <th>1</th>\n",
       "      <td>i wish there was something i could do sitting ...</td>\n",
       "      <td>fear</td>\n",
       "      <td>1</td>\n",
       "    </tr>\n",
       "    <tr>\n",
       "      <th>2</th>\n",
       "      <td>i feel strangely carefree and free from all bu...</td>\n",
       "      <td>happy</td>\n",
       "      <td>2</td>\n",
       "    </tr>\n",
       "    <tr>\n",
       "      <th>3</th>\n",
       "      <td>i just feel weird doing it but i want to make ...</td>\n",
       "      <td>fear</td>\n",
       "      <td>1</td>\n",
       "    </tr>\n",
       "    <tr>\n",
       "      <th>4</th>\n",
       "      <td>i tend to be a window shopper when im alone be...</td>\n",
       "      <td>love</td>\n",
       "      <td>3</td>\n",
       "    </tr>\n",
       "  </tbody>\n",
       "</table>\n",
       "</div>"
      ],
      "text/plain": [
       "                                                Text  Emotion  Label\n",
       "0                i feel beaten a href http ediebloom  sadness      4\n",
       "1  i wish there was something i could do sitting ...     fear      1\n",
       "2  i feel strangely carefree and free from all bu...    happy      2\n",
       "3  i just feel weird doing it but i want to make ...     fear      1\n",
       "4  i tend to be a window shopper when im alone be...     love      3"
      ]
     },
     "execution_count": 5,
     "metadata": {},
     "output_type": "execute_result"
    }
   ],
   "source": [
    "encoder = LabelEncoder()\n",
    "dataset['Label'] = encoder.fit_transform(dataset['Emotion'])\n",
    "dataset.head()"
   ]
  },
  {
   "cell_type": "code",
   "execution_count": 6,
   "id": "d1bd9dac",
   "metadata": {},
   "outputs": [],
   "source": [
    "def cleaning_text(text):\n",
    "    text = text.lower()\n",
    "    text = re.sub('r<.*?>', ' ', text)\n",
    "    text = re.sub(r'#\\w+', ' ', text)\n",
    "    text = re.sub(r'@\\w+', ' ', text)\n",
    "    text = re.sub(r'\\d+', ' ', text)\n",
    "    text = re.sub(r'http\\S+', \" \", text)\n",
    "\n",
    "    text = text.split()\n",
    "    stop_words = stopwords.words(\"english\")\n",
    "    text = \" \".join([word for word in text if not word in stop_words])\n",
    "\n",
    "    for punctuation in string.punctuation:\n",
    "        text = text.replace(punctuation, \"\")\n",
    "\n",
    "    return text"
   ]
  },
  {
   "cell_type": "code",
   "execution_count": 7,
   "id": "c7f88792",
   "metadata": {},
   "outputs": [],
   "source": [
    "dataset['Text'] = dataset['Text'].apply(lambda x: cleaning_text(x))"
   ]
  },
  {
   "cell_type": "code",
   "execution_count": 8,
   "id": "fd550a6c",
   "metadata": {},
   "outputs": [],
   "source": [
    "# Dictionary length\n",
    "num_classes = dataset.Label.nunique()\n",
    "res = Counter()\n",
    "dataset['Text'].str.split().apply(res.update)\n",
    "dim_dic = len(res.keys())\n",
    "\n",
    "# Maximum sentence length\n",
    "max_len_words = max(list(dataset['Text'].apply(len)))"
   ]
  },
  {
   "cell_type": "code",
   "execution_count": 9,
   "id": "9f948941",
   "metadata": {},
   "outputs": [],
   "source": [
    "cv = CountVectorizer(ngram_range=(1, 2))"
   ]
  },
  {
   "cell_type": "code",
   "execution_count": 10,
   "id": "d9f36dd9",
   "metadata": {},
   "outputs": [],
   "source": [
    "cv_texts = cv.fit_transform(dataset.Text)\n",
    "X_train, X_val, y_train, y_val = train_test_split(cv_texts, dataset.Label,\n",
    "                                                  test_size=.2, shuffle=True,\n",
    "                                                  stratify=dataset.Label, random_state=3)"
   ]
  },
  {
   "cell_type": "code",
   "execution_count": 11,
   "id": "d225a9ba",
   "metadata": {},
   "outputs": [
    {
     "name": "stdout",
     "output_type": "stream",
     "text": [
      "Accuracy:  0.7460391425908667\n"
     ]
    }
   ],
   "source": [
    "ab = OneVsRestClassifier(AdaBoostClassifier())\n",
    "ab.fit(X_train, y_train)\n",
    "ab_predict = ab.predict(X_val)\n",
    "print(\"Accuracy: \", accuracy_score(y_val, ab_predict))"
   ]
  },
  {
   "cell_type": "code",
   "execution_count": 12,
   "id": "724e3688",
   "metadata": {},
   "outputs": [
    {
     "data": {
      "text/plain": [
       "<AxesSubplot: >"
      ]
     },
     "execution_count": 12,
     "metadata": {},
     "output_type": "execute_result"
    },
    {
     "data": {
      "image/png": "[encoded data removed]",
      "text/plain": [
       "<Figure size 640x480 with 2 Axes>"
      ]
     },
     "metadata": {},
     "output_type": "display_data"
    }
   ],
   "source": [
    "sns.heatmap(confusion_matrix(y_val, ab_predict), annot=True, fmt=\"d\")"
   ]
  },
  {
   "cell_type": "code",
   "execution_count": 13,
   "id": "0524a9e4",
   "metadata": {},
   "outputs": [
    {
     "name": "stdout",
     "output_type": "stream",
     "text": [
      "              precision    recall  f1-score   support\n",
      "\n",
      "           0      0.912     0.743     0.819       599\n",
      "           1      0.904     0.745     0.817       530\n",
      "           2      0.610     0.925     0.735      1406\n",
      "           3      0.780     0.820     0.799       328\n",
      "           4      0.913     0.525     0.667      1253\n",
      "           5      0.789     0.767     0.778       176\n",
      "\n",
      "    accuracy                          0.746      4292\n",
      "   macro avg      0.818     0.754     0.769      4292\n",
      "weighted avg      0.797     0.746     0.744      4292\n",
      "\n"
     ]
    }
   ],
   "source": [
    "print(classification_report(y_val, ab_predict, digits=3))"
   ]
  },
  {
   "cell_type": "code",
   "execution_count": 14,
   "id": "140b2ab7",
   "metadata": {},
   "outputs": [
    {
     "name": "stdout",
     "output_type": "stream",
     "text": [
      "Accuracy:  0.8473904939422181\n"
     ]
    }
   ],
   "source": [
    "clf = OneVsRestClassifier(svm.SVC())\n",
    "clf.fit(X_train, y_train)\n",
    "clf_predict = clf.predict(X_val)\n",
    "print(\"Accuracy: \", accuracy_score(y_val, clf_predict))"
   ]
  },
  {
   "cell_type": "code",
   "execution_count": 15,
   "id": "e005db58",
   "metadata": {},
   "outputs": [
    {
     "data": {
      "text/plain": [
       "<AxesSubplot: >"
      ]
     },
     "execution_count": 15,
     "metadata": {},
     "output_type": "execute_result"
    },
    {
     "data": {
      "image/png": "[encoded data removed]",
      "text/plain": [
       "<Figure size 640x480 with 2 Axes>"
      ]
     },
     "metadata": {},
     "output_type": "display_data"
    }
   ],
   "source": [
    "sns.heatmap(confusion_matrix(y_val, clf_predict), annot=True, fmt=\"d\")"
   ]
  },
  {
   "cell_type": "code",
   "execution_count": 16,
   "id": "7fa3a7a6",
   "metadata": {},
   "outputs": [
    {
     "name": "stdout",
     "output_type": "stream",
     "text": [
      "              precision    recall  f1-score   support\n",
      "\n",
      "           0      0.942     0.735     0.826       599\n",
      "           1      0.890     0.721     0.797       530\n",
      "           2      0.793     0.963     0.870      1406\n",
      "           3      0.866     0.591     0.703       328\n",
      "           4      0.862     0.934     0.896      1253\n",
      "           5      0.915     0.551     0.688       176\n",
      "\n",
      "    accuracy                          0.847      4292\n",
      "   macro avg      0.878     0.749     0.796      4292\n",
      "weighted avg      0.856     0.847     0.842      4292\n",
      "\n"
     ]
    }
   ],
   "source": [
    "print(classification_report(y_val, clf_predict, digits=3))"
   ]
  },
  {
   "cell_type": "code",
   "execution_count": 17,
   "id": "8876e387",
   "metadata": {},
   "outputs": [],
   "source": [
    "tokenizer = Tokenizer(num_words=dim_dic)\n",
    "tokenizer.fit_on_texts(dataset.Text)\n",
    "\n",
    "def tokenize_split(x_train, y_train):\n",
    "    X_train, X_val, y_train, y_val = train_test_split(x_train, y_train,\n",
    "                                                      test_size=.1, shuffle=True,\n",
    "                                                      stratify=y_train, random_state=42)\n",
    "\n",
    "    train_sequences = tokenizer.texts_to_sequences(X_train)\n",
    "    train_padded = pad_sequences(train_sequences,\n",
    "                                 maxlen=max_len_words,\n",
    "                                 truncating='post',\n",
    "                                 padding='post')\n",
    "\n",
    "    val_sequences = tokenizer.texts_to_sequences(X_val)\n",
    "    val_padded = pad_sequences(val_sequences,\n",
    "                               maxlen=max_len_words,\n",
    "                               truncating='post',\n",
    "                               padding='post', )\n",
    "\n",
    "    return train_padded, val_padded, y_train, y_val"
   ]
  },
  {
   "cell_type": "code",
   "execution_count": 18,
   "id": "2a5dd50d",
   "metadata": {},
   "outputs": [],
   "source": [
    "X_train, X_val, y_train, y_val = tokenize_split(dataset.Text, dataset.Label)"
   ]
  },
  {
   "cell_type": "code",
   "execution_count": 25,
   "id": "959d7dc0",
   "metadata": {},
   "outputs": [],
   "source": [
    "model = Sequential([\n",
    "    layers.Embedding(dim_dic, 100, input_length=max_len_words),\n",
    "    layers.Bidirectional(layers.LSTM(64, return_sequences=True, recurrent_dropout=0)),\n",
    "    layers.GlobalAveragePooling1D(),\n",
    "    layers.Dropout(0.4),\n",
    "    layers.Dense(64, activation='relu'),\n",
    "    layers.Dropout(0.4),\n",
    "    layers.Dense(num_classes, activation='softmax')\n",
    "])"
   ]
  },
  {
   "cell_type": "code",
   "execution_count": 26,
   "id": "2544e911",
   "metadata": {},
   "outputs": [],
   "source": [
    "model.compile(loss=tf.keras.losses.SparseCategoricalCrossentropy(),\n",
    "              optimizer=tf.keras.optimizers.Adam(learning_rate=0.005),\n",
    "              metrics=['accuracy'])"
   ]
  },
  {
   "cell_type": "code",
   "execution_count": 27,
   "id": "c030babb",
   "metadata": {},
   "outputs": [
    {
     "name": "stdout",
     "output_type": "stream",
     "text": [
      "Model: \"sequential_1\"\n",
      "_________________________________________________________________\n",
      " Layer (type)                Output Shape              Param #   \n",
      "=================================================================\n",
      " embedding_1 (Embedding)     (None, 232, 100)          1911700   \n",
      "                                                                 \n",
      " bidirectional_1 (Bidirectio  (None, 232, 128)         84480     \n",
      " nal)                                                            \n",
      "                                                                 \n",
      " global_average_pooling1d_1   (None, 128)              0         \n",
      " (GlobalAveragePooling1D)                                        \n",
      "                                                                 \n",
      " dropout_1 (Dropout)         (None, 128)               0         \n",
      "                                                                 \n",
      " dense_2 (Dense)             (None, 64)                8256      \n",
      "                                                                 \n",
      " dropout_2 (Dropout)         (None, 64)                0         \n",
      "                                                                 \n",
      " dense_3 (Dense)             (None, 6)                 390       \n",
      "                                                                 \n",
      "=================================================================\n",
      "Total params: 2,004,826\n",
      "Trainable params: 2,004,826\n",
      "Non-trainable params: 0\n",
      "_________________________________________________________________\n"
     ]
    }
   ],
   "source": [
    "model.summary()"
   ]
  },
  {
   "cell_type": "code",
   "execution_count": 29,
   "id": "c32a451a",
   "metadata": {},
   "outputs": [
    {
     "name": "stdout",
     "output_type": "stream",
     "text": [
      "Epoch 1/10\n",
      "604/604 [==============================] - 68s 112ms/step - loss: 0.0814 - accuracy: 0.9713 - val_loss: 0.3077 - val_accuracy: 0.9087\n",
      "Epoch 2/10\n",
      "604/604 [==============================] - 74s 123ms/step - loss: 0.0670 - accuracy: 0.9768 - val_loss: 0.3258 - val_accuracy: 0.9040\n",
      "Epoch 3/10\n",
      "604/604 [==============================] - 75s 124ms/step - loss: 0.0541 - accuracy: 0.9814 - val_loss: 0.3891 - val_accuracy: 0.9068\n",
      "Epoch 4/10\n",
      "604/604 [==============================] - 75s 124ms/step - loss: 0.0549 - accuracy: 0.9822 - val_loss: 0.3946 - val_accuracy: 0.9101\n",
      "Elapsed 293.226 seconds.\n"
     ]
    }
   ],
   "source": [
    "start = time.perf_counter()\n",
    "early_stopping = callbacks.EarlyStopping(monitor=\"val_loss\",\n",
    "                                         mode=\"min\", patience=3)\n",
    "\n",
    "\n",
    "history = model.fit(X_train, y_train,\n",
    "                    epochs=10,\n",
    "                    validation_data=(X_val, y_val),\n",
    "                    callbacks=[early_stopping],\n",
    "                    shuffle=True)\n",
    "\n",
    "elapsed = time.perf_counter() - start\n",
    "print('Elapsed %.3f seconds.' % elapsed)"
   ]
  },
  {
   "cell_type": "code",
   "execution_count": 30,
   "id": "0350c8d5",
   "metadata": {},
   "outputs": [
    {
     "data": {
      "image/png": "[encoded data removed]",
      "text/plain": [
       "<Figure size 1200x400 with 2 Axes>"
      ]
     },
     "metadata": {},
     "output_type": "display_data"
    }
   ],
   "source": [
    "# Plotting accuracy and val_accuracy\n",
    "acc = history.history['accuracy']\n",
    "val_acc = history.history['val_accuracy']\n",
    "\n",
    "loss = history.history['loss']\n",
    "val_loss = history.history['val_loss']\n",
    "\n",
    "epochs_range = range(1, len(val_acc) + 1)\n",
    "plt.figure(figsize=(12, 4))\n",
    "\n",
    "plt.subplot(1, 2, 1)\n",
    "plt.plot(epochs_range, acc, label='Training Accuracy')\n",
    "plt.plot(epochs_range, val_acc, label='Validation Accuracy')\n",
    "plt.legend(loc='lower right')\n",
    "plt.xlim(1, len(val_acc) + 1)\n",
    "plt.title('Training and Validation Accuracy')\n",
    "\n",
    "plt.subplot(1, 2, 2)\n",
    "plt.plot(epochs_range, loss, label='Training Loss')\n",
    "plt.plot(epochs_range, val_loss, label='Validation Loss')\n",
    "plt.legend(loc='upper right')\n",
    "plt.xlim(1, len(val_acc) + 1)\n",
    "plt.title('Training and Validation Loss')\n",
    "plt.show()"
   ]
  },
  {
   "cell_type": "code",
   "execution_count": null,
   "id": "09a0f5e0",
   "metadata": {},
   "outputs": [],
   "source": []
  }
 ],
 "metadata": {
  "kernelspec": {
   "display_name": "Python 3 (ipykernel)",
   "language": "python",
   "name": "python3"
  },
  "language_info": {
   "codemirror_mode": {
    "name": "ipython",
    "version": 3
   },
   "file_extension": ".py",
   "mimetype": "text/x-python",
   "name": "python",
   "nbconvert_exporter": "python",
   "pygments_lexer": "ipython3",
   "version": "3.10.9"
  }
 },
 "nbformat": 4,
 "nbformat_minor": 5
}
